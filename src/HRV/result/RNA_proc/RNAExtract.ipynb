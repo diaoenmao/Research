{
 "cells": [
  {
   "cell_type": "markdown",
   "metadata": {},
   "source": [
    "Duke Data: Extract RNA data for 21 patients"
   ]
  },
  {
   "cell_type": "code",
   "execution_count": 1,
   "metadata": {
    "collapsed": false
   },
   "outputs": [],
   "source": [
    "# import libraries\n",
    "# import os\n",
    "import numpy as np\n",
    "import copy\n",
    "from datetime import datetime\n",
    "import pickle\n",
    "import matplotlib.pyplot as plt"
   ]
  },
  {
   "cell_type": "code",
   "execution_count": 2,
   "metadata": {
    "collapsed": false
   },
   "outputs": [],
   "source": [
    "# read files\n",
    "file1 = 'dataExportForRelease\\\\sqlViews\\\\vw_mRNASeqTotalCountsFtDetrick_release.txt'\n",
    "file2 = 'dataExportForRelease\\\\sqlViews\\\\vw_mRNASeqKeyFtDetrick_release.txt'"
   ]
  },
  {
   "cell_type": "markdown",
   "metadata": {},
   "source": [
    "Read from \"RNA count\" file"
   ]
  },
  {
   "cell_type": "code",
   "execution_count": 4,
   "metadata": {
    "collapsed": false
   },
   "outputs": [],
   "source": [
    "f1 = open(file1,'r')\n",
    "f1.seek(3,0)             # set the file pointer, jump over utf-8 BOM\n",
    "# f1.tell()\n",
    "column_name = f1.readline()\n",
    "f1firstrow = f1.tell()"
   ]
  },
  {
   "cell_type": "code",
   "execution_count": 5,
   "metadata": {
    "collapsed": false
   },
   "outputs": [],
   "source": [
    "f1size = f1.seek(0,2)    # total length of the file"
   ]
  },
  {
   "cell_type": "code",
   "execution_count": 6,
   "metadata": {
    "collapsed": false
   },
   "outputs": [],
   "source": [
    "RNA_names = ['RSAD2','IFI44L','LAMP3','SERPING1','IFI44','IFIT1','ISG15','SIGLEC1','OAS3','HERC5',\n",
    "            'IFIT3','IFI6','OASL','IFI27','ATF3','MX1','OAS1','XAF1','IFIT2','OAS2',\n",
    "            'LY6E','DDX58','TNFAIP6','RTP4']\n",
    "# RNA_names_maxlen = 4\n",
    "# for i in range(len(RNA_names)):\n",
    "#     if RNA_names_maxlen < len(RNA_names[i]):\n",
    "#         RNA_names_maxlen = len(RNA_names[i])    "
   ]
  },
  {
   "cell_type": "markdown",
   "metadata": {},
   "source": [
    "Normalization of the RNA counts"
   ]
  },
  {
   "cell_type": "code",
   "execution_count": 7,
   "metadata": {
    "collapsed": false
   },
   "outputs": [],
   "source": [
    "f1.seek(f1firstrow,0)\n",
    "RNAcounts_pre = f1.readlines()\n",
    "RNAnamesall = []\n",
    "# converting string to numbers\n",
    "for i in range(len(RNAcounts_pre)):\n",
    "    RNAcounts_pre[i] = RNAcounts_pre[i].split('\\t')\n",
    "    RNAnamesall.append(RNAcounts_pre[i][0])\n",
    "    RNAcounts_pre[i] = [float(x) for x in RNAcounts_pre[i][1:]]\n",
    "\n",
    "# len(RNAnamesall)"
   ]
  },
  {
   "cell_type": "code",
   "execution_count": 8,
   "metadata": {
    "collapsed": false
   },
   "outputs": [
    {
     "data": {
      "text/plain": [
       "26490"
      ]
     },
     "execution_count": 8,
     "metadata": {},
     "output_type": "execute_result"
    }
   ],
   "source": [
    "len(RNAcounts_pre)"
   ]
  },
  {
   "cell_type": "code",
   "execution_count": 1139,
   "metadata": {
    "collapsed": false
   },
   "outputs": [],
   "source": [
    "RNAcounts_pre = np.array(RNAcounts_pre)\n",
    "nc = RNAcounts_pre.shape[1]"
   ]
  },
  {
   "cell_type": "code",
   "execution_count": 1140,
   "metadata": {
    "collapsed": false,
    "scrolled": true
   },
   "outputs": [],
   "source": [
    "# 75% quantile normalizing\n",
    "RNAcounts_pre_quantile = np.percentile(RNAcounts_pre,75,axis=0,interpolation='linear')\n",
    "RNAcounts_pre_quantile[np.where(RNAcounts_pre_quantile==0)] = 1\n",
    "RNAcounts_pre = np.transpose(np.array([RNAcounts_pre[:,x]/RNAcounts_pre_quantile[x] for x in range(nc)]))\n",
    "RNAcounts_pre = RNAcounts_pre * np.mean(RNAcounts_pre_quantile)"
   ]
  },
  {
   "cell_type": "code",
   "execution_count": 1141,
   "metadata": {
    "collapsed": false
   },
   "outputs": [],
   "source": [
    "#  log transformation\n",
    "RNAcounts_pre = np.log2(RNAcounts_pre + 0.5)"
   ]
  },
  {
   "cell_type": "code",
   "execution_count": 1142,
   "metadata": {
    "collapsed": false
   },
   "outputs": [],
   "source": [
    "# take out the import RNAs from the lise 'RNA_names'\n",
    "impRNAind = [RNAnamesall.index(x) for x in RNA_names]\n",
    "RNAcounts = RNAcounts_pre[impRNAind,:]"
   ]
  },
  {
   "cell_type": "markdown",
   "metadata": {},
   "source": [
    "The following blocks do not do normalizing"
   ]
  },
  {
   "cell_type": "code",
   "execution_count": 1143,
   "metadata": {
    "collapsed": false
   },
   "outputs": [],
   "source": [
    "# # take out the 20 important RNA data\n",
    "# RNAcounts = []\n",
    "# f1.seek(f1firstrow,0)\n",
    "# while f1.tell() != f1size:\n",
    "#     current_line = f1.readline()\n",
    "#     for i in range(len(RNA_names)):\n",
    "#         current_line_namelen = current_line.find('\\t',0)\n",
    "#         if RNA_names[i] == current_line[:current_line_namelen]:\n",
    "#             RNAcounts.append(current_line)\n",
    "#             break\n",
    "    \n",
    "#     if len(RNAcounts) > len(RNA_names):\n",
    "#         break          \n",
    "        "
   ]
  },
  {
   "cell_type": "code",
   "execution_count": 1144,
   "metadata": {
    "collapsed": true
   },
   "outputs": [],
   "source": [
    "f1.close()"
   ]
  },
  {
   "cell_type": "code",
   "execution_count": 1145,
   "metadata": {
    "collapsed": false
   },
   "outputs": [],
   "source": [
    "# # converting string to numbers\n",
    "# for i in range(len(RNAcounts)):\n",
    "#     RNAcounts[i] = [float(x) for x in RNAcounts[i].split('\\t')[1:]]\n",
    "    \n",
    "# RNAcounts = np.array(RNAcounts)\n",
    "    \n",
    "# # [len(RNAcounts[x]) for x in range(len(RNAcounts))]\n"
   ]
  },
  {
   "cell_type": "markdown",
   "metadata": {},
   "source": [
    "Index with the \"RNA key\" file"
   ]
  },
  {
   "cell_type": "code",
   "execution_count": 1146,
   "metadata": {
    "collapsed": false
   },
   "outputs": [],
   "source": [
    "column_name = column_name.split('\\t')\n",
    "del column_name[0]\n",
    "column_name[-1] = column_name[-1][:-1]"
   ]
  },
  {
   "cell_type": "code",
   "execution_count": 1147,
   "metadata": {
    "collapsed": false,
    "scrolled": true
   },
   "outputs": [],
   "source": [
    "f2 = open(file2,'r')\n",
    "f2.seek(3,0)\n",
    "table_head = f2.readline()\n",
    "table_head.split('\\t')\n",
    "pot = f2.tell()"
   ]
  },
  {
   "cell_type": "code",
   "execution_count": 1148,
   "metadata": {
    "collapsed": true
   },
   "outputs": [],
   "source": [
    "subject_ids = ['HRV15-002','HRV15-003','HRV15-004','HRV15-005','HRV15-006','HRV15-007','HRV15-008',\n",
    "               'HRV15-009','HRV15-011','HRV15-012','HRV15-013','HRV15-014','HRV15-015','HRV15-017',\n",
    "               'HRV15-018','HRV15-019','HRV15-020','HRV15-021','HRV15-022','HRV15-023','HRV15-024']"
   ]
  },
  {
   "cell_type": "code",
   "execution_count": 1149,
   "metadata": {
    "collapsed": false
   },
   "outputs": [],
   "source": [
    "f2.seek(pot,0)\n",
    "key = f2.readlines()\n",
    "f2.close()"
   ]
  },
  {
   "cell_type": "code",
   "execution_count": 1150,
   "metadata": {
    "collapsed": false
   },
   "outputs": [],
   "source": [
    "for i in range(len(key)):\n",
    "    key[i] = key[i].split('\\t')\n",
    "\n",
    "# subject id and sample id indexing\n",
    "subject_sample_index = [[] for i in range(len(subject_ids))]\n",
    "# subject id and key file line indexing\n",
    "subject_key_lineind = copy.deepcopy(subject_sample_index)\n",
    "# subject id and counts file column indexing\n",
    "subject_counts_ind = copy.deepcopy(subject_sample_index)"
   ]
  },
  {
   "cell_type": "code",
   "execution_count": 1151,
   "metadata": {
    "collapsed": true
   },
   "outputs": [],
   "source": [
    "for i in range(len(key)):\n",
    "    samid = key[i][0]\n",
    "    subid = key[i][1]\n",
    "    id = subject_ids.index(subid)\n",
    "    subject_sample_index[id].append(samid)\n",
    "    subject_key_lineind[id].append(i)\n",
    "    "
   ]
  },
  {
   "cell_type": "code",
   "execution_count": 1152,
   "metadata": {
    "collapsed": true
   },
   "outputs": [],
   "source": [
    "for i in range(len(subject_counts_ind)):\n",
    "    subject_counts_ind[i] = [column_name.index(x) for x in subject_sample_index[i]]\n",
    "    "
   ]
  },
  {
   "cell_type": "code",
   "execution_count": 1153,
   "metadata": {
    "collapsed": false
   },
   "outputs": [],
   "source": [
    "# each element in the list contains an n * p array, \n",
    "# where n is the number of RNA's, and p is the number of datapoints for this subjcet\n",
    "RNAcounts_by_subject = []\n",
    "for i in range(len(subject_ids)):\n",
    "    RNAcounts_by_subject.append(RNAcounts[:,subject_counts_ind[i]])"
   ]
  },
  {
   "cell_type": "code",
   "execution_count": 1154,
   "metadata": {
    "collapsed": false
   },
   "outputs": [],
   "source": [
    "RNAcounts_by_subject_info = [[] for i in range(len(subject_ids))]\n",
    "for i in range(len(key)):\n",
    "    subid = key[i][1]\n",
    "    id = subject_ids.index(subid)\n",
    "    for m in range(len(subject_key_lineind[id])):\n",
    "        RNAcounts_by_subject_info[id].append(key[subject_key_lineind[id][m]]) "
   ]
  },
  {
   "cell_type": "markdown",
   "metadata": {},
   "source": [
    "Sort time for each subject"
   ]
  },
  {
   "cell_type": "code",
   "execution_count": 1155,
   "metadata": {
    "collapsed": false
   },
   "outputs": [],
   "source": [
    "dataorder_by_subject = []\n",
    "for i in range(len(subject_ids)):\n",
    "    cur_date = []\n",
    "    for m in range(len(subject_key_lineind[i])):\n",
    "        this_date = RNAcounts_by_subject_info[i][m][2] + ' ' + RNAcounts_by_subject_info[i][m][3]\n",
    "        cur_date.append(datetime.strptime(this_date, '%Y-%m-%d %H:%M:%S'))\n",
    "        \n",
    "    dataorder_by_subject.append(np.argsort(cur_date))\n",
    "          "
   ]
  },
  {
   "cell_type": "code",
   "execution_count": 1156,
   "metadata": {
    "collapsed": false
   },
   "outputs": [],
   "source": [
    "# sort all the RNA counts/information according to time\n",
    "for i in range(len(subject_ids)):\n",
    "    RNAcounts_by_subject[i] = RNAcounts_by_subject[i][:,dataorder_by_subject[i]]\n",
    "    \n",
    "for i in range(len(subject_ids)):\n",
    "    RNAcounts_by_subject_info[i] = np.array(RNAcounts_by_subject_info[i])[dataorder_by_subject[i],:]\n",
    "    \n",
    "for i in range(len(subject_ids)):\n",
    "    subject_sample_index[i] = np.array(subject_sample_index[i])[dataorder_by_subject[i]]\n",
    "    \n",
    "for i in range(len(subject_ids)):\n",
    "    subject_key_lineind[i] = np.array(subject_key_lineind[i])[dataorder_by_subject[i]]\n",
    "    \n",
    "for i in range(len(subject_ids)):\n",
    "    subject_counts_ind[i] = np.array(subject_counts_ind[i])[dataorder_by_subject[i]]"
   ]
  },
  {
   "cell_type": "code",
   "execution_count": 1157,
   "metadata": {
    "collapsed": true
   },
   "outputs": [],
   "source": [
    "# summary of RNA counts data\n",
    "\n",
    "# RNAcounts_by_subject[i][m,]          i: subject     m: RNA\n",
    "# RNAcounts_by_subject_info[i][m,]     i: subject     m: datapoint number\n",
    "# subject_sample_index[i]              i: subject\n",
    "# subject_key_lineind[i]               i: subject\n",
    "# subject_counts_ind[i]                i: subject"
   ]
  },
  {
   "cell_type": "code",
   "execution_count": 1158,
   "metadata": {
    "collapsed": true
   },
   "outputs": [],
   "source": [
    "# save to pickle\n",
    "pickle.dump((RNAcounts_by_subject,RNAcounts_by_subject_info,subject_sample_index,subject_key_lineind,subject_counts_ind),\n",
    "            open('RNAcountdata.pickle', 'wb'))"
   ]
  },
  {
   "cell_type": "markdown",
   "metadata": {},
   "source": [
    "More analysis"
   ]
  },
  {
   "cell_type": "markdown",
   "metadata": {},
   "source": [
    "First, look at number of datapoints for each subject:"
   ]
  },
  {
   "cell_type": "code",
   "execution_count": 1159,
   "metadata": {
    "collapsed": false
   },
   "outputs": [],
   "source": [
    "numRNApoints = [len(RNAcounts_by_subject[x][1,]) for x in range(21)]"
   ]
  },
  {
   "cell_type": "markdown",
   "metadata": {},
   "source": [
    "Then, look at some RNA count plots for each subject:"
   ]
  },
  {
   "cell_type": "code",
   "execution_count": 1160,
   "metadata": {
    "collapsed": false
   },
   "outputs": [
    {
     "data": {
      "image/png": "[encoded data removed]",
      "text/plain": [
       "<matplotlib.figure.Figure at 0x347ef6d8>"
      ]
     },
     "metadata": {},
     "output_type": "display_data"
    }
   ],
   "source": [
    "subject_id = 8\n",
    "numRNAnames = len(RNA_names)\n",
    "for i in range(numRNAnames):\n",
    "    plt.plot(range(numRNApoints[subject_id]),RNAcounts_by_subject[subject_id][i,])\n",
    "    plt.ylim(0,15)\n",
    "    \n",
    "plt.show()"
   ]
  },
  {
   "cell_type": "markdown",
   "metadata": {},
   "source": [
    "Furthermore, we found that:\n",
    "1. HRV15-014 and HRV015-015 only have 2 datapoints (on the beginning days), so we remove them (the array indexes is 11 and 12);\n",
    "2. For most of the subjects, the second last RNA count datapoint on \"2015-10-08\" or \"2015-10-09\" is \"FollowUp\", so we remove it;\n",
    "3. For most of the subjects, the last RNA count datapoint on \"2015-10-21\" should be a typo; it should be \"2015-09-21\"."
   ]
  },
  {
   "cell_type": "code",
   "execution_count": 1161,
   "metadata": {
    "collapsed": true
   },
   "outputs": [],
   "source": [
    "del RNAcounts_by_subject[11:13]"
   ]
  },
  {
   "cell_type": "code",
   "execution_count": 1162,
   "metadata": {
    "collapsed": false
   },
   "outputs": [],
   "source": [
    "subject_ids_new = ['HRV15-002','HRV15-003','HRV15-004','HRV15-005','HRV15-006','HRV15-007','HRV15-008',\n",
    "                   'HRV15-009','HRV15-011','HRV15-012','HRV15-013','HRV15-017','HRV15-018','HRV15-019',\n",
    "                   'HRV15-020','HRV15-021','HRV15-022','HRV15-023','HRV15-024']"
   ]
  },
  {
   "cell_type": "code",
   "execution_count": 1163,
   "metadata": {
    "collapsed": false
   },
   "outputs": [],
   "source": [
    "for i in range(len(subject_ids_new)):\n",
    "    RNAcounts_by_subject[i] = np.delete(RNAcounts_by_subject[i],-2,1)"
   ]
  },
  {
   "cell_type": "markdown",
   "metadata": {},
   "source": [
    "Now, we want every subject to have 21 datapoints. Since we notice that the last 4 subjects have 19,19,19,9 datapoints, we do linear interpolation for them (the place of inerpolation is based on the corresponding time that we looked up in 'RNAcounts_by_subject_info')."
   ]
  },
  {
   "cell_type": "code",
   "execution_count": 1164,
   "metadata": {
    "collapsed": false
   },
   "outputs": [],
   "source": [
    "for i in range(-4,-1):\n",
    "    temp = []\n",
    "    for m in range(numRNAnames):\n",
    "        temp.append(np.concatenate((RNAcounts_by_subject[i][m,:-2],\n",
    "                        np.linspace(RNAcounts_by_subject[i][m,-2],RNAcounts_by_subject[i][m,-1],4)),axis=0))\n",
    "        \n",
    "    RNAcounts_by_subject[i] = np.array(copy.deepcopy(temp))\n",
    "    "
   ]
  },
  {
   "cell_type": "code",
   "execution_count": 1165,
   "metadata": {
    "collapsed": false
   },
   "outputs": [],
   "source": [
    "temp = []\n",
    "for m in range(numRNAnames):\n",
    "    temp.append(np.concatenate((np.array([RNAcounts_by_subject[-1][m,0]]),\n",
    "                 np.linspace(RNAcounts_by_subject[-1][m,1],RNAcounts_by_subject[-1][m,2],3),\n",
    "                 np.array([RNAcounts_by_subject[-1][m,3]]),\n",
    "                 np.linspace(RNAcounts_by_subject[-1][m,3],RNAcounts_by_subject[-1][m,4],4)[1:],\n",
    "                 np.linspace(RNAcounts_by_subject[-1][m,4],RNAcounts_by_subject[-1][m,5],4)[1:],\n",
    "                 np.linspace(RNAcounts_by_subject[-1][m,5],RNAcounts_by_subject[-1][m,6],4)[1:],\n",
    "                 np.linspace(RNAcounts_by_subject[-1][m,6],RNAcounts_by_subject[-1][m,7],4)[1:],\n",
    "                 np.linspace(RNAcounts_by_subject[-1][m,7],RNAcounts_by_subject[-1][m,8],5)[1:])))\n",
    "\n",
    "RNAcounts_by_subject[-1] = np.array(copy.deepcopy(temp))"
   ]
  },
  {
   "cell_type": "markdown",
   "metadata": {},
   "source": [
    "Now we generate a list of RNA counts, each element for a subject, which is a 1 * 21 np.array containing average over RNAs."
   ]
  },
  {
   "cell_type": "code",
   "execution_count": 1176,
   "metadata": {
    "collapsed": false
   },
   "outputs": [],
   "source": [
    "RNAdata = []\n",
    "for i in range(len(subject_ids_new)):\n",
    "    RNAdata.append(RNAcounts_by_subject[i].mean(axis=0))"
   ]
  },
  {
   "cell_type": "code",
   "execution_count": 1179,
   "metadata": {
    "collapsed": false
   },
   "outputs": [],
   "source": [
    "# save data\n",
    "pickle.dump(RNAdata, open('RNAdata_API.pickle', 'wb'))"
   ]
  },
  {
   "cell_type": "markdown",
   "metadata": {},
   "source": [
    "The end of story."
   ]
  },
  {
   "cell_type": "code",
   "execution_count": null,
   "metadata": {
    "collapsed": true
   },
   "outputs": [],
   "source": []
  },
  {
   "cell_type": "code",
   "execution_count": null,
   "metadata": {
    "collapsed": true
   },
   "outputs": [],
   "source": []
  },
  {
   "cell_type": "code",
   "execution_count": null,
   "metadata": {
    "collapsed": true
   },
   "outputs": [],
   "source": []
  },
  {
   "cell_type": "code",
   "execution_count": null,
   "metadata": {
    "collapsed": true
   },
   "outputs": [],
   "source": []
  },
  {
   "cell_type": "code",
   "execution_count": null,
   "metadata": {
    "collapsed": true
   },
   "outputs": [],
   "source": []
  },
  {
   "cell_type": "code",
   "execution_count": 1055,
   "metadata": {
    "collapsed": false
   },
   "outputs": [
    {
     "data": {
      "text/plain": [
       "array([['DU15-01S10415 txt', 'HRV15-024', '2015-09-14', '08:45:00',\n",
       "        'DayMinus3', 'AM', 'DayMinus3 AM', 'PaxGene RNA', 'DU15-01S01560',\n",
       "        '2015-12-14', '101.7', '2.542', '1.263', '2.01', '1.11', '9.6',\n",
       "        '80', '9.83', '7.8\\n'],\n",
       "       ['DU15-01S10412 txt', 'HRV15-024', '2015-09-14', '17:05:00',\n",
       "        'DayMinus3', 'PM1', 'DayMinus3 PM1', 'PaxGene RNA',\n",
       "        'DU15-01S00561', '2015-12-14', '97.78', '2.445', '1.152', '2.12',\n",
       "        '1.76', '9.4', '81', '10.23', '7.5\\n'],\n",
       "       ['DU15-01S10413 txt', 'HRV15-024', '2015-09-15', '00:42:00',\n",
       "        'DayMinus3', 'PM2', 'DayMinus3 PM2', 'PaxGene RNA',\n",
       "        'DU15-01S03032', '2015-12-14', '75.16', '1.879', '0.891', '2.11',\n",
       "        '0.29', '9.3', '57', '13.3', '5.8\\n'],\n",
       "       ['DU15-01S10414 txt', 'HRV15-024', '2015-09-15', '17:35:00',\n",
       "        'DayMinus2', 'PM1', 'DayMinus2 PM1', 'PaxGene RNA',\n",
       "        'DU15-01S01994', '2015-12-14', '65.94', '1.649', '0.801', '2.06',\n",
       "        '0.39', '9.3', '54', '15.17', '5.1\\n'],\n",
       "       ['DU15-01S10409 txt', 'HRV15-024', '2015-09-16', '23:58:00',\n",
       "        'DayMinus1', 'PM2', 'DayMinus1 PM2', 'PaxGene RNA',\n",
       "        'DU15-01S02294', '2015-12-14', '71.54', '1.788', '0.844', '2.12',\n",
       "        '0.22', '9.5', '59', '13.98', '5.5\\n'],\n",
       "       ['DU15-01S10408 txt', 'HRV15-024', '2015-09-17', '08:34:00', 'Day0',\n",
       "        'AM', 'Day0 AM', 'PaxGene RNA', 'DU15-01S04555', '2015-12-10',\n",
       "        '96.51', '2.413', '1.149', '2.1', '1.97', '9.3', '104', '10.36',\n",
       "        '7.4\\n'],\n",
       "       ['DU15-01S10410 txt', 'HRV15-024', '2015-09-18', '08:39:00', 'Day1',\n",
       "        'AM', 'Day1 AM', 'PaxGene RNA', 'DU15-01S04993', '2015-12-14',\n",
       "        '105.3', '2.633', '1.259', '2.09', '0.29', '9.5', '74', '9.5',\n",
       "        '8.1\\n'],\n",
       "       ['DU15-01S10411 txt', 'HRV15-024', '2015-09-19', '07:20:00', 'Day2',\n",
       "        'AM', 'Day2 AM', 'PaxGene RNA', 'DU15-01S05502', '2015-12-14',\n",
       "        '116.9', '2.922', '1.387', '2.11', '1.2', '9.4', '96', '8.55',\n",
       "        '9\\n'],\n",
       "       ['DU15-01S10407 txt', 'HRV15-024', '2015-10-08', '13:44:00',\n",
       "        'FollowUp', 'NULL', 'NULL', 'PaxGene RNA', 'DU15-01S04077',\n",
       "        '2015-12-10', '33.06', '0.826', '0.403', '2.05', '1.57', '9', '30',\n",
       "        '30.25', '2.5\\n'],\n",
       "       ['DU15-01S10416 txt', 'HRV15-024', '2015-10-21', '16:23:00', 'Day4',\n",
       "        'PM1', 'Day4 PM1', 'PaxGene RNA', 'DU15-01S03771', '2015-12-14',\n",
       "        '74.5', '1.862', '0.897', '2.08', '1.51', '9.3', '66', '13.42',\n",
       "        '5.7\\n']], \n",
       "      dtype='<U17')"
      ]
     },
     "execution_count": 1055,
     "metadata": {},
     "output_type": "execute_result"
    }
   ],
   "source": [
    "RNAcounts_by_subject_info[-1]"
   ]
  },
  {
   "cell_type": "code",
   "execution_count": 974,
   "metadata": {
    "collapsed": false
   },
   "outputs": [
    {
     "data": {
      "text/plain": [
       "array([ 7.68817291,  8.41237122,  9.13656952,  9.86076783])"
      ]
     },
     "execution_count": 974,
     "metadata": {},
     "output_type": "execute_result"
    }
   ],
   "source": [
    "np.linspace(RNAcounts_by_subject[i][m,-2],RNAcounts_by_subject[i][m,-1],4)"
   ]
  },
  {
   "cell_type": "code",
   "execution_count": 977,
   "metadata": {
    "collapsed": false
   },
   "outputs": [
    {
     "ename": "IndexError",
     "evalue": "axis 1 out of bounds [0, 1)",
     "output_type": "error",
     "traceback": [
      "\u001b[1;31m---------------------------------------------------------------------------\u001b[0m",
      "\u001b[1;31mIndexError\u001b[0m                                Traceback (most recent call last)",
      "\u001b[1;32m<ipython-input-977-4b4e2861ce07>\u001b[0m in \u001b[0;36m<module>\u001b[1;34m()\u001b[0m\n\u001b[0;32m      1\u001b[0m np.concatenate((RNAcounts_by_subject[i][m,:-2],\n\u001b[1;32m----> 2\u001b[1;33m                         np.linspace(RNAcounts_by_subject[i][m,-2],RNAcounts_by_subject[i][m,-1],4)),axis=1)\n\u001b[0m",
      "\u001b[1;31mIndexError\u001b[0m: axis 1 out of bounds [0, 1)"
     ]
    }
   ],
   "source": [
    "np.concatenate((RNAcounts_by_subject[i][m,:-2],\n",
    "                        np.linspace(RNAcounts_by_subject[i][m,-2],RNAcounts_by_subject[i][m,-1],4)),axis=0)"
   ]
  },
  {
   "cell_type": "code",
   "execution_count": null,
   "metadata": {
    "collapsed": true
   },
   "outputs": [],
   "source": []
  },
  {
   "cell_type": "code",
   "execution_count": 574,
   "metadata": {
    "collapsed": false
   },
   "outputs": [
    {
     "data": {
      "text/plain": [
       "array([300, 294, 295, 296, 291, 292, 293, 288, 289, 290, 297, 298, 299,\n",
       "       301, 302, 303, 304, 305, 306, 307, 309, 308])"
      ]
     },
     "execution_count": 574,
     "metadata": {},
     "output_type": "execute_result"
    }
   ],
   "source": [
    "subject_key_lineind[0]"
   ]
  },
  {
   "cell_type": "code",
   "execution_count": 566,
   "metadata": {
    "collapsed": false
   },
   "outputs": [
    {
     "data": {
      "text/plain": [
       "array([300, 294, 295, 296, 291, 292, 293, 288, 289, 290, 297, 298, 299,\n",
       "       301, 302, 303, 304, 305, 306, 307, 309, 308])"
      ]
     },
     "execution_count": 566,
     "metadata": {},
     "output_type": "execute_result"
    }
   ],
   "source": [
    "np.array(subject_key_lineind[0])[dataorder_by_subject[0]]"
   ]
  },
  {
   "cell_type": "code",
   "execution_count": 552,
   "metadata": {
    "collapsed": false
   },
   "outputs": [
    {
     "data": {
      "text/plain": [
       "array([['DU15-01S10024 txt', 'HRV15-003', '2015-09-14', '07:14:00',\n",
       "        'DayMinus3', 'AM', 'DayMinus3 AM', 'PaxGene RNA', 'DU15-01S01540',\n",
       "        '2015-12-07', '128.6', '3.214', '1.551', '2.07', '1.95', '9.3',\n",
       "        '74.98225', '7.8', '9.9\\n'],\n",
       "       ['DU15-01S10031 txt', 'HRV15-003', '2015-09-14', '14:20:00',\n",
       "        'DayMinus3', 'PM1', 'DayMinus3 PM1', 'PaxGene RNA',\n",
       "        'DU15-01S00260', '2015-12-07', '81', '2.025', '0.951', '2.13',\n",
       "        '1.99', '8.6', '44.38694', '12.3', '6.2\\n'],\n",
       "       ['DU15-01S10026 txt', 'HRV15-003', '2015-09-14', '22:25:07',\n",
       "        'DayMinus3', 'PM2', 'DayMinus3 PM2', 'PaxGene RNA',\n",
       "        'DU15-01S00591', '2015-12-07', '135.9', '3.399', '1.632', '2.08',\n",
       "        '1.96', '9.2', '102.0958', '7.4', '10.5\\n'],\n",
       "       ['DU15-01S10027 txt', 'HRV15-003', '2015-09-15', '07:20:00',\n",
       "        'DayMinus2', 'AM', 'DayMinus2 AM', 'PaxGene RNA', 'DU15-01S01742',\n",
       "        '2015-12-07', '84.12', '2.103', '0.996', '2.11', '1.55', '9.3',\n",
       "        '98.49518', '11.9', '6.5\\n'],\n",
       "       ['DU15-01S10028 txt', 'HRV15-003', '2015-09-15', '15:52:00',\n",
       "        'DayMinus2', 'PM1', 'DayMinus2 PM1', 'PaxGene RNA',\n",
       "        'DU15-01S01850', '2015-12-07', '73.62', '1.841', '0.872', '2.11',\n",
       "        '1.83', '9.1', '46.92269', '13.6', '5.7\\n'],\n",
       "       ['DU15-01S10029 txt', 'HRV15-003', '2015-09-15', '22:23:00',\n",
       "        'DayMinus2', 'PM2', 'DayMinus2 PM2', 'PaxGene RNA',\n",
       "        'DU15-01S02045', '2015-12-07', '98.81', '2.47', '1.186', '2.08',\n",
       "        '1.68', '9.3', '130.3971', '10.1', '7.6\\n'],\n",
       "       ['DU15-01S10041 txt', 'HRV15-003', '2015-09-16', '07:00:00',\n",
       "        'DayMinus1', 'AM', 'DayMinus1 AM', 'PaxGene RNA', 'DU15-01S02119',\n",
       "        '2015-12-07', '73.51', '1.838', '0.878', '2.09', '1.92', '8.8',\n",
       "        '57.91777', '13.6', '5.7\\n'],\n",
       "       ['DU15-01S10036 txt', 'HRV15-003', '2015-09-16', '14:15:06',\n",
       "        'DayMinus1', 'PM1', 'DayMinus1 PM1', 'PaxGene RNA',\n",
       "        'DU15-01S01116', '2015-12-07', '110.8', '2.771', '1.328', '2.09',\n",
       "        '1.7', '9', '86.98517', '9', '8.5\\n'],\n",
       "       ['DU15-01S10023 txt', 'HRV15-003', '2015-09-16', '22:23:00',\n",
       "        'DayMinus1', 'PM2', 'DayMinus1 PM2', 'PaxGene RNA',\n",
       "        'DU15-01S02282', '2015-12-07', '86.25', '2.156', '1.014', '2.13',\n",
       "        '1.86', '9.1', '124.3159', '11.6', '6.6\\n'],\n",
       "       ['DU15-01S10037 txt', 'HRV15-003', '2015-09-17', '06:44:00', 'Day0',\n",
       "        'AM', 'Day0 AM', 'PaxGene RNA', 'DU15-01S01456', '2015-12-07',\n",
       "        '154.9', '3.873', '1.851', '2.09', '1.43', '9.3', '117.4873',\n",
       "        '6.5', '11.9\\n'],\n",
       "       ['DU15-01S10025 txt', 'HRV15-003', '2015-09-17', '14:10:00', 'Day0',\n",
       "        'PM1', 'Day0 PM1', 'PaxGene RNA', 'DU15-01S04649', '2015-12-07',\n",
       "        '142.7', '3.568', '1.697', '2.1', '1.99', '8.8', '121.1644', '7',\n",
       "        '11\\n'],\n",
       "       ['DU15-01S10044 txt', 'HRV15-003', '2015-09-18', '06:45:00', 'Day1',\n",
       "        'AM', 'Day1 AM', 'PaxGene RNA', 'DU15-01S04875', '2015-12-07',\n",
       "        '70.82', '1.771', '0.84', '2.11', '1.26', '9.3', '57.91608',\n",
       "        '14.1', '5.5\\n'],\n",
       "       ['DU15-01S10035 txt', 'HRV15-003', '2015-09-18', '14:05:00', 'Day1',\n",
       "        'PM1', 'Day1 PM1', 'PaxGene RNA', 'DU15-01S05072', '2015-12-07',\n",
       "        '120', '2.999', '1.431', '2.1', '1.41', '9.1', '67.03319', '8.3',\n",
       "        '9.2\\n'],\n",
       "       ['DU15-01S10034 txt', 'HRV15-003', '2015-09-18', '20:27:00', 'Day1',\n",
       "        'PM2', 'Day1 PM2', 'PaxGene RNA', 'DU15-01S05291', '2015-12-07',\n",
       "        '126.9', '3.173', '1.533', '2.07', '0.74', '9.1', '78.50218',\n",
       "        '7.9', '9.8\\n'],\n",
       "       ['DU15-01S10039 txt', 'HRV15-003', '2015-09-19', '06:48:00', 'Day2',\n",
       "        'AM', 'Day2 AM', 'PaxGene RNA', 'DU15-01S05468', '2015-12-07',\n",
       "        '100.4', '2.509', '1.192', '2.1', '1.9', '9', '80.40406', '10',\n",
       "        '7.7\\n'],\n",
       "       ['DU15-01S10038 txt', 'HRV15-003', '2015-09-19', '15:30:00', 'Day2',\n",
       "        'PM1', 'Day2 PM1', 'PaxGene RNA', 'DU15-01S05685', '2015-12-07',\n",
       "        '108.3', '2.707', '1.288', '2.1', '2.02', '9.2', '77.16915', '9.2',\n",
       "        '8.3\\n'],\n",
       "       ['DU15-01S10040 txt', 'HRV15-003', '2015-09-19', '22:23:00', 'Day2',\n",
       "        'PM2', 'Day2 PM2', 'PaxGene RNA', 'DU15-01S05845', '2015-12-07',\n",
       "        '89.47', '2.237', '1.072', '2.09', '1.93', '8.8', '102.2884',\n",
       "        '11.2', '6.9\\n'],\n",
       "       ['DU15-01S10033 txt', 'HRV15-003', '2015-09-20', '06:43:00', 'Day3',\n",
       "        'AM', 'Day3 AM', 'PaxGene RNA', 'DU15-01S03073', '2015-12-07',\n",
       "        '108', '2.7', '1.286', '2.1', '1.97', '9.1', '72.1621', '9.3',\n",
       "        '8.3\\n'],\n",
       "       ['DU15-01S10030 txt', 'HRV15-003', '2015-09-20', '14:20:00', 'Day3',\n",
       "        'PM1', 'Day3 PM1', 'PaxGene RNA', 'DU15-01S03265', '2015-12-07',\n",
       "        '104.3', '2.608', '1.242', '2.1', '1.96', '9', '66.05641', '9.6',\n",
       "        '8\\n'],\n",
       "       ['DU15-01S10042 txt', 'HRV15-003', '2015-09-21', '06:46:00', 'Day4',\n",
       "        'AM', 'Day4 AM', 'PaxGene RNA', 'DU15-01S03469', '2015-12-07',\n",
       "        '92.05', '2.301', '1.138', '2.02', '1.76', '9.1', '71.61734',\n",
       "        '10.9', '7.1\\n'],\n",
       "       ['DU15-01S10043 txt', 'HRV15-003', '2015-10-08', '08:10:00',\n",
       "        'FollowUp', 'NULL', 'NULL', 'PaxGene RNA', 'DU15-01S03905',\n",
       "        '2015-12-07', '116', '2.9', '1.394', '2.08', '1.93', '8.8',\n",
       "        '123.4633', '8.6', '8.9\\n'],\n",
       "       ['DU15-01S10032 txt', 'HRV15-003', '2015-10-21', '14:11:00', 'Day4',\n",
       "        'PM1', 'Day4 PM1', 'PaxGene RNA', 'DU15-01S03670', '2015-12-07',\n",
       "        '89.75', '2.244', '1.079', '2.08', '0.98', '8.8', '57.01641',\n",
       "        '11.1', '6.9\\n']], \n",
       "      dtype='<U17')"
      ]
     },
     "execution_count": 552,
     "metadata": {},
     "output_type": "execute_result"
    }
   ],
   "source": [
    "(dataorder_by_subject[0])\n",
    "len(subject_key_lineind[0])\n",
    "np.array(RNAcounts_by_subject_info[1])[dataorder_by_subject[1],:]"
   ]
  },
  {
   "cell_type": "code",
   "execution_count": 517,
   "metadata": {
    "collapsed": false
   },
   "outputs": [
    {
     "data": {
      "text/plain": [
       "array([12,  6,  7,  8,  3,  4,  5,  0,  1,  2,  9, 10, 11, 13, 14, 15, 16,\n",
       "       17, 18, 19, 21, 20], dtype=int64)"
      ]
     },
     "execution_count": 517,
     "metadata": {},
     "output_type": "execute_result"
    }
   ],
   "source": [
    "dataorder_by_subject[0]"
   ]
  },
  {
   "cell_type": "code",
   "execution_count": 522,
   "metadata": {
    "collapsed": false
   },
   "outputs": [
    {
     "data": {
      "text/plain": [
       "array([ 270.,  494.,  615.,  511.,  321.,  382.,  341.,  292.,  376.,\n",
       "        551.,  423.,   24.,  542.,  408.,  296.,  414.,  598.,  334.,\n",
       "        464.,  170.,  584.,  526.])"
      ]
     },
     "execution_count": 522,
     "metadata": {},
     "output_type": "execute_result"
    }
   ],
   "source": [
    "RNAcounts_by_subject[0][0]"
   ]
  },
  {
   "cell_type": "code",
   "execution_count": 528,
   "metadata": {
    "collapsed": false
   },
   "outputs": [
    {
     "data": {
      "text/plain": [
       "array([ 494.,  270.,  511.])"
      ]
     },
     "execution_count": 528,
     "metadata": {},
     "output_type": "execute_result"
    }
   ],
   "source": [
    "RNAcounts_by_subject[0][0,(1,0,3)]"
   ]
  },
  {
   "cell_type": "code",
   "execution_count": 486,
   "metadata": {
    "collapsed": false
   },
   "outputs": [
    {
     "data": {
      "text/plain": [
       "'2015-09-16 07:53:00'"
      ]
     },
     "execution_count": 486,
     "metadata": {},
     "output_type": "execute_result"
    }
   ],
   "source": [
    "a = RNAcounts_by_subject_info[0][0][2]\n",
    "b = RNAcounts_by_subject_info[0][0][3]\n",
    "c = a + ' ' + b\n",
    "d = datetime.strptime(c, '%Y-%m-%d %I:%M:%S')\n",
    "c"
   ]
  },
  {
   "cell_type": "code",
   "execution_count": 487,
   "metadata": {
    "collapsed": false
   },
   "outputs": [
    {
     "data": {
      "text/plain": [
       "datetime.datetime(2015, 9, 16, 7, 53, 1)"
      ]
     },
     "execution_count": 487,
     "metadata": {},
     "output_type": "execute_result"
    }
   ],
   "source": [
    "datetime.strptime('2015-09-16 07:53:01', '%Y-%m-%d %I:%M:%S')\n"
   ]
  },
  {
   "cell_type": "code",
   "execution_count": 366,
   "metadata": {
    "collapsed": false
   },
   "outputs": [
    {
     "data": {
      "text/plain": [
       "[datetime.datetime(2015, 6, 16, 7, 53), datetime.datetime(2015, 9, 16, 7, 53)]"
      ]
     },
     "execution_count": 366,
     "metadata": {},
     "output_type": "execute_result"
    }
   ],
   "source": [
    "d = datetime.strptime(c, '%Y-%m-%d %I:%M:%S')\n",
    "d = [d,(datetime.strptime('2015-06-16 07:53:00', '%Y-%m-%d %I:%M:%S'))]\n",
    "d.sort()\n",
    "d"
   ]
  },
  {
   "cell_type": "code",
   "execution_count": 325,
   "metadata": {
    "collapsed": false
   },
   "outputs": [
    {
     "data": {
      "text/plain": [
       "array([ 432.,  383.,  427.,  459.,  379.,  399.,  463.,  316.,  414.,  323.])"
      ]
     },
     "execution_count": 325,
     "metadata": {},
     "output_type": "execute_result"
    }
   ],
   "source": [
    "RNAcounts_by_subject[20][0,]"
   ]
  },
  {
   "cell_type": "code",
   "execution_count": 150,
   "metadata": {
    "collapsed": false
   },
   "outputs": [
    {
     "ename": "ValueError",
     "evalue": "time data '2015-09-19 23:19:00' does not match format '%Y-%m-%d %I:%M:%S'",
     "output_type": "error",
     "traceback": [
      "\u001b[1;31m---------------------------------------------------------------------------\u001b[0m",
      "\u001b[1;31mValueError\u001b[0m                                Traceback (most recent call last)",
      "\u001b[1;32m<ipython-input-150-1314fa375746>\u001b[0m in \u001b[0;36m<module>\u001b[1;34m()\u001b[0m\n\u001b[0;32m      2\u001b[0m \u001b[0ma\u001b[0m \u001b[1;33m=\u001b[0m \u001b[0ma\u001b[0m\u001b[1;33m[\u001b[0m\u001b[1;36m0\u001b[0m\u001b[1;33m]\u001b[0m\u001b[1;33m+\u001b[0m\u001b[1;34m' '\u001b[0m\u001b[1;33m+\u001b[0m\u001b[0ma\u001b[0m\u001b[1;33m[\u001b[0m\u001b[1;36m1\u001b[0m\u001b[1;33m]\u001b[0m\u001b[1;33m\u001b[0m\u001b[0m\n\u001b[0;32m      3\u001b[0m \u001b[0ma\u001b[0m\u001b[1;33m\u001b[0m\u001b[0m\n\u001b[1;32m----> 4\u001b[1;33m \u001b[0mdatetime_object\u001b[0m \u001b[1;33m=\u001b[0m \u001b[0mdatetime\u001b[0m\u001b[1;33m.\u001b[0m\u001b[0mstrptime\u001b[0m\u001b[1;33m(\u001b[0m\u001b[0ma\u001b[0m\u001b[1;33m,\u001b[0m \u001b[1;34m'%Y-%m-%d %I:%M:%S'\u001b[0m\u001b[1;33m)\u001b[0m\u001b[1;33m\u001b[0m\u001b[0m\n\u001b[0m",
      "\u001b[1;32mC:\\Users\\zjw\\Anaconda3\\lib\\_strptime.py\u001b[0m in \u001b[0;36m_strptime_datetime\u001b[1;34m(cls, data_string, format)\u001b[0m\n\u001b[0;32m    563\u001b[0m     \"\"\"Return a class cls instance based on the input string and the\n\u001b[0;32m    564\u001b[0m     format string.\"\"\"\n\u001b[1;32m--> 565\u001b[1;33m     \u001b[0mtt\u001b[0m\u001b[1;33m,\u001b[0m \u001b[0mfraction\u001b[0m \u001b[1;33m=\u001b[0m \u001b[0m_strptime\u001b[0m\u001b[1;33m(\u001b[0m\u001b[0mdata_string\u001b[0m\u001b[1;33m,\u001b[0m \u001b[0mformat\u001b[0m\u001b[1;33m)\u001b[0m\u001b[1;33m\u001b[0m\u001b[0m\n\u001b[0m\u001b[0;32m    566\u001b[0m     \u001b[0mtzname\u001b[0m\u001b[1;33m,\u001b[0m \u001b[0mgmtoff\u001b[0m \u001b[1;33m=\u001b[0m \u001b[0mtt\u001b[0m\u001b[1;33m[\u001b[0m\u001b[1;33m-\u001b[0m\u001b[1;36m2\u001b[0m\u001b[1;33m:\u001b[0m\u001b[1;33m]\u001b[0m\u001b[1;33m\u001b[0m\u001b[0m\n\u001b[0;32m    567\u001b[0m     \u001b[0margs\u001b[0m \u001b[1;33m=\u001b[0m \u001b[0mtt\u001b[0m\u001b[1;33m[\u001b[0m\u001b[1;33m:\u001b[0m\u001b[1;36m6\u001b[0m\u001b[1;33m]\u001b[0m \u001b[1;33m+\u001b[0m \u001b[1;33m(\u001b[0m\u001b[0mfraction\u001b[0m\u001b[1;33m,\u001b[0m\u001b[1;33m)\u001b[0m\u001b[1;33m\u001b[0m\u001b[0m\n",
      "\u001b[1;32mC:\\Users\\zjw\\Anaconda3\\lib\\_strptime.py\u001b[0m in \u001b[0;36m_strptime\u001b[1;34m(data_string, format)\u001b[0m\n\u001b[0;32m    360\u001b[0m     \u001b[1;32mif\u001b[0m \u001b[1;32mnot\u001b[0m \u001b[0mfound\u001b[0m\u001b[1;33m:\u001b[0m\u001b[1;33m\u001b[0m\u001b[0m\n\u001b[0;32m    361\u001b[0m         raise ValueError(\"time data %r does not match format %r\" %\n\u001b[1;32m--> 362\u001b[1;33m                          (data_string, format))\n\u001b[0m\u001b[0;32m    363\u001b[0m     \u001b[1;32mif\u001b[0m \u001b[0mlen\u001b[0m\u001b[1;33m(\u001b[0m\u001b[0mdata_string\u001b[0m\u001b[1;33m)\u001b[0m \u001b[1;33m!=\u001b[0m \u001b[0mfound\u001b[0m\u001b[1;33m.\u001b[0m\u001b[0mend\u001b[0m\u001b[1;33m(\u001b[0m\u001b[1;33m)\u001b[0m\u001b[1;33m:\u001b[0m\u001b[1;33m\u001b[0m\u001b[0m\n\u001b[0;32m    364\u001b[0m         raise ValueError(\"unconverted data remains: %s\" %\n",
      "\u001b[1;31mValueError\u001b[0m: time data '2015-09-19 23:19:00' does not match format '%Y-%m-%d %I:%M:%S'"
     ]
    }
   ],
   "source": [
    "a = f2.readline().split('\\t')[2:4]\n",
    "a = a[0]+' '+a[1]\n",
    "a\n",
    "datetime_object = datetime.strptime(a, '%Y-%m-%d %I:%M:%S')"
   ]
  },
  {
   "cell_type": "code",
   "execution_count": 167,
   "metadata": {
    "collapsed": false
   },
   "outputs": [
    {
     "data": {
      "text/plain": [
       "'2015-09-19 23:19:00'"
      ]
     },
     "execution_count": 167,
     "metadata": {},
     "output_type": "execute_result"
    }
   ],
   "source": [
    "datetime.strptime(b,'%Y-%m-%d %I:%M:%S')\n",
    "a"
   ]
  },
  {
   "cell_type": "code",
   "execution_count": 169,
   "metadata": {
    "collapsed": false
   },
   "outputs": [
    {
     "data": {
      "text/plain": [
       "'2015-9-14 1:33:20'"
      ]
     },
     "execution_count": 169,
     "metadata": {},
     "output_type": "execute_result"
    }
   ],
   "source": [
    "b = '2015-9-14 1:33:20'\n",
    "b"
   ]
  },
  {
   "cell_type": "code",
   "execution_count": 106,
   "metadata": {
    "collapsed": false
   },
   "outputs": [
    {
     "data": {
      "text/plain": [
       "['DU15-01S10131 txt',\n",
       " 'HRV15-007',\n",
       " '2015-09-18',\n",
       " '15:15:00',\n",
       " 'Day1',\n",
       " 'PM1',\n",
       " 'Day1 PM1',\n",
       " 'PaxGene RNA',\n",
       " 'DU15-01S05107',\n",
       " '2015-12-14',\n",
       " '52.01',\n",
       " '1.3',\n",
       " '0.615',\n",
       " '2.11',\n",
       " '1.82',\n",
       " '9.3',\n",
       " '17.89957',\n",
       " '19.2',\n",
       " '4\\n']"
      ]
     },
     "execution_count": 106,
     "metadata": {},
     "output_type": "execute_result"
    }
   ],
   "source": [
    "f2.readline().split('\\t')"
   ]
  },
  {
   "cell_type": "code",
   "execution_count": 86,
   "metadata": {
    "collapsed": false
   },
   "outputs": [],
   "source": [
    "a = 'ACR';\n",
    "a;"
   ]
  },
  {
   "cell_type": "code",
   "execution_count": 241,
   "metadata": {
    "collapsed": false
   },
   "outputs": [
    {
     "data": {
      "text/plain": [
       "5"
      ]
     },
     "execution_count": 241,
     "metadata": {},
     "output_type": "execute_result"
    }
   ],
   "source": [
    "a.find('\\t')"
   ]
  },
  {
   "cell_type": "code",
   "execution_count": 242,
   "metadata": {
    "collapsed": false
   },
   "outputs": [
    {
     "data": {
      "text/plain": [
       "6"
      ]
     },
     "execution_count": 242,
     "metadata": {},
     "output_type": "execute_result"
    }
   ],
   "source": [
    "current_line.find('\\t')"
   ]
  },
  {
   "cell_type": "code",
   "execution_count": 243,
   "metadata": {
    "collapsed": false
   },
   "outputs": [
    {
     "data": {
      "text/plain": [
       "'ADAD2\\t'"
      ]
     },
     "execution_count": 243,
     "metadata": {},
     "output_type": "execute_result"
    }
   ],
   "source": [
    "a"
   ]
  },
  {
   "cell_type": "code",
   "execution_count": 244,
   "metadata": {
    "collapsed": false
   },
   "outputs": [
    {
     "data": {
      "text/plain": [
       "'ADA'"
      ]
     },
     "execution_count": 244,
     "metadata": {},
     "output_type": "execute_result"
    }
   ],
   "source": [
    "a[:3]"
   ]
  },
  {
   "cell_type": "code",
   "execution_count": null,
   "metadata": {
    "collapsed": true
   },
   "outputs": [],
   "source": []
  }
 ],
 "metadata": {
  "kernelspec": {
   "display_name": "Python 3",
   "language": "python",
   "name": "python3"
  },
  "language_info": {
   "codemirror_mode": {
    "name": "ipython",
    "version": 3
   },
   "file_extension": ".py",
   "mimetype": "text/x-python",
   "name": "python",
   "nbconvert_exporter": "python",
   "pygments_lexer": "ipython3",
   "version": "3.6.0"
  }
 },
 "nbformat": 4,
 "nbformat_minor": 2
}
