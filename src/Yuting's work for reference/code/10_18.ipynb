{
 "cells": [
  {
   "cell_type": "code",
   "execution_count": 1,
   "metadata": {},
   "outputs": [],
   "source": [
    "import numpy as np\n",
    "import pickle\n",
    "from scipy import signal\n",
    "from scipy.spatial.distance import euclidean\n",
    "from fastdtw import fastdtw\n",
    "import copy\n",
    "import matplotlib.pyplot as plt\n",
    "from numpy import cos, sin, pi, absolute, arange\n",
    "from scipy.signal import kaiserord, lfilter, firwin, freqz\n",
    "from pylab import figure, clf, plot, xlabel, ylabel, xlim, ylim, title, grid, axes, show\n",
    "import numpy as np\n",
    "from scipy.fftpack import fft, ifft\n",
    "import scipy.signal as signal\n",
    "import numpy as np\n",
    "import pickle\n",
    "from scipy import signal\n",
    "from scipy.spatial.distance import euclidean\n",
    "from fastdtw import fastdtw\n",
    "import copy\n",
    "import matplotlib.pyplot as plt\n",
    "%matplotlib inline\n",
    "import pytz # new import\n",
    "import datetime\n",
    "from sklearn.ensemble import RandomForestClassifier, AdaBoostClassifier\n",
    "from sklearn import preprocessing\n",
    "from sklearn import utils\n",
    "import copy\n",
    "from copy import deepcopy\n",
    "import matplotlib.pyplot as plt\n",
    "from mpl_toolkits.mplot3d import Axes3D\n",
    "import pandas as pd\n",
    "from fun2 import *\n",
    "from sklearn import linear_model\n",
    "from sklearn.neural_network import MLPClassifier"
   ]
  },
  {
   "cell_type": "code",
   "execution_count": 2,
   "metadata": {
    "collapsed": true
   },
   "outputs": [],
   "source": [
    "path = '0820_data/minute_data_0820'\n",
    "names = ['HRV15-002', 'HRV15-003', 'HRV15-004', 'HRV15-005', 'HRV15-006', 'HRV15-007', 'HRV15-008', 'HRV15-009', 'HRV15-011', 'HRV15-012', 'HRV15-013',  'HRV15-017', 'HRV15-018', 'HRV15-019', 'HRV15-020', 'HRV15-021', 'HRV15-022', 'HRV15-023', 'HRV15-024']\n",
    "label = pickle.load(open(\"labels.pkl\", \"rb\" )).tolist()\n",
    "#df_groupby_minute_total = read_data(path)"
   ]
  },
  {
   "cell_type": "code",
   "execution_count": 3,
   "metadata": {},
   "outputs": [],
   "source": [
    "start_train,end_train = 15, 17\n",
    "start_test,end_test = 17, 18\n",
    "start_hour,end_hour = '09','08'\n",
    "n = 0\n",
    "\n",
    "result0 = result_time_shift(path,start_train,end_train,start_test,end_test,start_hour,end_hour,names,label,n)\n"
   ]
  },
  {
   "cell_type": "code",
   "execution_count": 4,
   "metadata": {},
   "outputs": [
    {
     "data": {
      "text/plain": [
       "(0.5555555555555556,\n",
       " 1e-08,\n",
       " ['HRV15-003',\n",
       "  'HRV15-006',\n",
       "  'HRV15-007',\n",
       "  'HRV15-008',\n",
       "  'HRV15-013',\n",
       "  'HRV15-021',\n",
       "  'HRV15-022',\n",
       "  'HRV15-024'],\n",
       " [],\n",
       " array([[  12.34693793,    7.7526988 ,   10.82924493],\n",
       "        [  14.54666725,   24.1704159 ,   12.93539849],\n",
       "        [  16.42891026,    7.61370106,   17.04701645],\n",
       "        [  15.75967664,   12.11026296,   24.63404996],\n",
       "        [  13.08445108,   17.23217943,   11.76737894],\n",
       "        [  16.93325992,   20.37835524,    9.12497852],\n",
       "        [  26.93995938,    8.63336056,   10.14987239],\n",
       "        [  19.46206101,   86.87868221,   13.32718787],\n",
       "        [  19.75808075,   21.74895693,   11.56454669],\n",
       "        [  16.64344197,   17.02737865,    8.76860666],\n",
       "        [  24.33694203,   15.49369604,   22.55825022],\n",
       "        [  37.8465362 ,   11.35415448,   13.52741969],\n",
       "        [  13.89588867,   16.85368869,   15.51982041],\n",
       "        [  24.66958479,   46.27673157,  199.72551338],\n",
       "        [  19.05249723,   12.38982448,   14.62428537],\n",
       "        [  11.23289366,   32.05586398,    8.95380817],\n",
       "        [  18.77025272,   19.49169125,   13.50691387],\n",
       "        [  12.28446331,    8.23911612,   16.19631401]]))"
      ]
     },
     "execution_count": 4,
     "metadata": {},
     "output_type": "execute_result"
    }
   ],
   "source": [
    "result0"
   ]
  },
  {
   "cell_type": "code",
   "execution_count": 5,
   "metadata": {},
   "outputs": [],
   "source": [
    "start_train,end_train = 15, 17\n",
    "start_test,end_test = 17, 18\n",
    "start_hour,end_hour = '10','09'\n",
    "n = 1\n",
    "\n",
    "result1 = result_time_shift(path,start_train,end_train,start_test,end_test,start_hour,end_hour,names,label,n)\n",
    "\n"
   ]
  },
  {
   "cell_type": "code",
   "execution_count": 6,
   "metadata": {},
   "outputs": [
    {
     "data": {
      "text/plain": [
       "(0.5555555555555556,\n",
       " 1e-08,\n",
       " ['HRV15-003',\n",
       "  'HRV15-006',\n",
       "  'HRV15-007',\n",
       "  'HRV15-008',\n",
       "  'HRV15-013',\n",
       "  'HRV15-021',\n",
       "  'HRV15-022',\n",
       "  'HRV15-024'],\n",
       " [],\n",
       " array([[  14.00103007,   10.63517728,    9.3785986 ],\n",
       "        [  20.48555546,   28.25773345,   20.96290916],\n",
       "        [  22.09056756,    7.15171628,   13.44056938],\n",
       "        [  16.94825622,   12.02381988,   21.16041213],\n",
       "        [  13.21422894,   11.52145969,   11.96998368],\n",
       "        [  21.08990472,   16.40798581,   10.42024063],\n",
       "        [  29.5526355 ,   24.73426828,   10.39274167],\n",
       "        [  24.96749948,   38.27560306,   16.68516187],\n",
       "        [  15.09438465,   21.18771643,   15.63790018],\n",
       "        [  22.47656256,   17.41564394,    8.84268832],\n",
       "        [  16.87513665,   18.0105764 ,   18.04165991],\n",
       "        [  11.57252813,   21.69821281,   10.47507708],\n",
       "        [  16.57410283,   20.60657042,   14.7203485 ],\n",
       "        [  21.53421675,   25.25249628,  199.72551338],\n",
       "        [  13.65074754,   13.02681829,   12.54477484],\n",
       "        [  16.68730665,   14.33113206,   13.13518223],\n",
       "        [  15.59831508,   19.73125229,   13.66360625],\n",
       "        [  13.44685081,    9.19735642,   13.90411562]]))"
      ]
     },
     "execution_count": 6,
     "metadata": {},
     "output_type": "execute_result"
    }
   ],
   "source": [
    "result1"
   ]
  },
  {
   "cell_type": "code",
   "execution_count": 7,
   "metadata": {
    "collapsed": true
   },
   "outputs": [],
   "source": [
    "start_train,end_train = 15, 17\n",
    "start_test,end_test = 17, 18\n",
    "start_hour,end_hour = '11','10'\n",
    "n = 2\n",
    "\n",
    "result2 = result_time_shift(path,start_train,end_train,start_test,end_test,start_hour,end_hour,names,label,n)\n",
    "\n",
    "\n"
   ]
  },
  {
   "cell_type": "code",
   "execution_count": 8,
   "metadata": {},
   "outputs": [
    {
     "data": {
      "text/plain": [
       "(0.5555555555555556,\n",
       " 1,\n",
       " ['HRV15-003', 'HRV15-006', 'HRV15-008', 'HRV15-013', 'HRV15-024'],\n",
       " ['HRV15-009', 'HRV15-012', 'HRV15-023'],\n",
       " array([[  14.20656495,   12.40833067,   10.9293125 ],\n",
       "        [  22.40498421,   22.0434356 ,   19.81595361],\n",
       "        [  15.73950856,    7.51635734,   13.78069707],\n",
       "        [  24.69023644,   11.60796986,   24.96241779],\n",
       "        [  13.67353197,   14.40883235,   14.25104859],\n",
       "        [  21.86007367,   20.11346088,    8.82244446],\n",
       "        [  27.36535873,  302.41870853,    8.81834615],\n",
       "        [  20.51796152,   38.57300582,   15.74043805],\n",
       "        [  15.45669713,   29.00754804,   14.88669661],\n",
       "        [  23.76386883,   19.64545242,   15.94989092],\n",
       "        [  25.63211647,   38.47179452,   21.85855899],\n",
       "        [  13.39792765,   20.09605435,   11.97670686],\n",
       "        [  16.74123749,   19.1071004 ,   13.02706381],\n",
       "        [  17.89499284,   23.16615931,  199.72551338],\n",
       "        [  20.9945634 ,   11.64246082,   12.84566521],\n",
       "        [  17.57465404,   10.28106506,    9.59881407],\n",
       "        [  15.8348971 ,   20.43168885,    9.83864597],\n",
       "        [  15.56524716,    8.15899685,   13.38744968]]))"
      ]
     },
     "execution_count": 8,
     "metadata": {},
     "output_type": "execute_result"
    }
   ],
   "source": [
    "result2"
   ]
  },
  {
   "cell_type": "code",
   "execution_count": 9,
   "metadata": {
    "collapsed": true
   },
   "outputs": [],
   "source": [
    "start_train,end_train = 15, 17\n",
    "start_test,end_test = 17, 18\n",
    "start_hour,end_hour = '12','11'\n",
    "n = 3\n",
    "\n",
    "result3 = result_time_shift(path,start_train,end_train,start_test,end_test,start_hour,end_hour,names,label,n)\n",
    "\n",
    "\n",
    "\n"
   ]
  },
  {
   "cell_type": "code",
   "execution_count": 10,
   "metadata": {},
   "outputs": [
    {
     "data": {
      "text/plain": [
       "(0.6111111111111112,\n",
       " 0.01,\n",
       " ['HRV15-003', 'HRV15-006', 'HRV15-007', 'HRV15-021', 'HRV15-024'],\n",
       " ['HRV15-009', 'HRV15-012'],\n",
       " array([[  16.48183016,    8.74713155,   10.54338114],\n",
       "        [  21.00204345,   23.5029484 ,   20.32118829],\n",
       "        [  14.15179937,   25.03042025,   14.48949232],\n",
       "        [  15.40671454,   19.76093489,   34.28024966],\n",
       "        [  15.56021849,   10.83643027,   14.62286915],\n",
       "        [  18.11064413,   30.18857113,   10.62414272],\n",
       "        [  14.36062337,  152.9245971 ,    9.81770075],\n",
       "        [  18.97255824,   44.85388182,   12.65335748],\n",
       "        [  15.82678354,   20.91250895,   14.94367257],\n",
       "        [  18.93382475,   34.21987775,   14.91613736],\n",
       "        [  19.55526508,   73.41673512,   22.56904565],\n",
       "        [  17.98012263,   21.42165359,   10.43943933],\n",
       "        [  16.11313203,   19.95293442,   17.18229262],\n",
       "        [  16.43615739,   21.01764438,  199.72551338],\n",
       "        [  13.01503634,    9.96571692,   12.15197507],\n",
       "        [  14.12369454,   44.48947349,   13.94981625],\n",
       "        [  16.98571498,   15.87840622,   11.36602544],\n",
       "        [  12.35049998,    7.18363637,   16.37410534]]))"
      ]
     },
     "execution_count": 10,
     "metadata": {},
     "output_type": "execute_result"
    }
   ],
   "source": [
    "result3"
   ]
  },
  {
   "cell_type": "code",
   "execution_count": null,
   "metadata": {
    "collapsed": true
   },
   "outputs": [],
   "source": []
  },
  {
   "cell_type": "code",
   "execution_count": null,
   "metadata": {
    "collapsed": true
   },
   "outputs": [],
   "source": [
    "A = np.zeros((18,3))"
   ]
  },
  {
   "cell_type": "code",
   "execution_count": null,
   "metadata": {},
   "outputs": [],
   "source": [
    "A[3:8] = [1,1,1]"
   ]
  },
  {
   "cell_type": "code",
   "execution_count": null,
   "metadata": {
    "collapsed": true
   },
   "outputs": [],
   "source": [
    "b= np.zeros(19)\n",
    "b[3:8] = 1\n",
    "b = b.tolist()"
   ]
  },
  {
   "cell_type": "code",
   "execution_count": null,
   "metadata": {},
   "outputs": [],
   "source": [
    "len(b)"
   ]
  },
  {
   "cell_type": "code",
   "execution_count": null,
   "metadata": {},
   "outputs": [],
   "source": [
    "len(label)"
   ]
  },
  {
   "cell_type": "code",
   "execution_count": null,
   "metadata": {},
   "outputs": [],
   "source": [
    "pick_best_fn_fp(A,b,names)"
   ]
  },
  {
   "cell_type": "code",
   "execution_count": null,
   "metadata": {
    "collapsed": true
   },
   "outputs": [],
   "source": []
  },
  {
   "cell_type": "code",
   "execution_count": null,
   "metadata": {
    "collapsed": true
   },
   "outputs": [],
   "source": []
  }
 ],
 "metadata": {
  "kernelspec": {
   "display_name": "Python 3",
   "language": "python",
   "name": "python3"
  },
  "language_info": {
   "codemirror_mode": {
    "name": "ipython",
    "version": 3
   },
   "file_extension": ".py",
   "mimetype": "text/x-python",
   "name": "python",
   "nbconvert_exporter": "python",
   "pygments_lexer": "ipython3",
   "version": "3.6.1"
  }
 },
 "nbformat": 4,
 "nbformat_minor": 2
}
