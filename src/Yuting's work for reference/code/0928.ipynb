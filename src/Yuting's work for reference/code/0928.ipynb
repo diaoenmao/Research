{
 "cells": [
  {
   "cell_type": "code",
   "execution_count": 1,
   "metadata": {
    "collapsed": true
   },
   "outputs": [],
   "source": [
    "import numpy as np\n",
    "import pickle\n",
    "from scipy import signal\n",
    "from scipy.spatial.distance import euclidean\n",
    "from fastdtw import fastdtw\n",
    "import copy\n",
    "import matplotlib.pyplot as plt\n",
    "from numpy import cos, sin, pi, absolute, arange\n",
    "from scipy.signal import kaiserord, lfilter, firwin, freqz\n",
    "from pylab import figure, clf, plot, xlabel, ylabel, xlim, ylim, title, grid, axes, show\n",
    "import numpy as np\n",
    "from scipy.fftpack import fft, ifft\n",
    "import scipy.signal as signal\n",
    "import numpy as np\n",
    "import pickle\n",
    "from scipy import signal\n",
    "from scipy.spatial.distance import euclidean\n",
    "from fastdtw import fastdtw\n",
    "import copy\n",
    "import matplotlib.pyplot as plt\n",
    "%matplotlib inline\n",
    "import pytz # new import\n",
    "import datetime\n",
    "from sklearn.ensemble import RandomForestClassifier, AdaBoostClassifier\n",
    "from sklearn import preprocessing\n",
    "from sklearn import utils\n",
    "import copy\n",
    "from copy import deepcopy\n",
    "import matplotlib.pyplot as plt\n",
    "from mpl_toolkits.mplot3d import Axes3D\n",
    "import pandas as pd\n",
    "from function import *\n",
    "from sklearn import linear_model\n",
    "from sklearn.neural_network import MLPClassifier"
   ]
  },
  {
   "cell_type": "code",
   "execution_count": 2,
   "metadata": {
    "collapsed": true
   },
   "outputs": [],
   "source": [
    "def log_(alpha,dtw,label,names):\n",
    "\tindex = 14\n",
    "\tlabel = label[:index] + label[index+1 :]\n",
    "\tnames = names[:index] + names[index+1 :]\n",
    "\tX = dtw\n",
    "\ty = np.asanyarray(label)\n",
    "\tloo = LeaveOneOut()\n",
    "\tloo.get_n_splits(X)\n",
    "\tcount = 0\n",
    "\tcorrect_sub = []\n",
    "\tfp_sub = []\n",
    "\tfn_sub = []\n",
    "\tfor train_index, test_index in loo.split(X):\n",
    "\t\t#print (train_index,test_index)\n",
    "\t\tX_train, X_test = X[train_index], X[test_index]\n",
    "\t\ty_train, y_test = y[train_index], y[test_index]\n",
    "\t\tscaler = StandardScaler() \n",
    "\t\tscaler.fit(X_train) \n",
    "\t\tX_train = scaler.transform(X_train)  \n",
    "\t\tX_test = scaler.transform(X_test) \n",
    "\t\t#clf = SVC(C = alpha)\n",
    "\t\tclf = linear_model.LogisticRegression(C=alpha)\n",
    "\t\tclf.fit(X_train, y_train)  \n",
    "\t\tY_predict = clf.predict(X_test)\n",
    "\t\tif Y_predict == y_test:\n",
    "\t\t\t#correct_sub.append(names[test_index])\n",
    "\t\t\tcount += 1\n",
    "\t\telse:\n",
    "\t\t\tif Y_predict == 1:\n",
    "\t\t\t\t#print (test_index)\n",
    "\t\t\t\tfp_sub.append(names[int(test_index)])\n",
    "\t\t\telif Y_predict == 0:\n",
    "\t\t\t\tfn_sub.append(names[int(test_index)])\n",
    "\t\t#print (Y_predict)\n",
    "\treturn count/(len(X)),fp_sub,fn_sub\n",
    "\n",
    "\n",
    "def pick_best_fn_fp_(distance_new,label,names):\t\n",
    "\talpha = [-5,-4,-3,-2,-1,0,1,2,3,4,5]\n",
    "\trecord = []\n",
    "\tfp_sub_list = []\n",
    "\tfn_sub_list = []\n",
    "\tfor x in alpha:\n",
    "\t    #print (10**(x))\n",
    "\t    rate,fp_sub,fn_sub = log_(10**x,distance_new,label,names)\n",
    "\t    record.append(rate)\n",
    "\t    fp_sub_list.append(fp_sub)\n",
    "\t    fn_sub_list.append(fn_sub)\n",
    "\tmax_record = max(record)\n",
    "\tindex_max = record.index(max_record)\n",
    "\t#print (index_max)\n",
    "\talpha_max = 10**alpha[index_max]\n",
    "\tfp_sub_max = fp_sub_list[index_max]\n",
    "\tfn_sub_max = fn_sub_list[index_max]\n",
    "\treturn max_record,alpha_max,fp_sub_max,fn_sub_max\n",
    "\n"
   ]
  },
  {
   "cell_type": "markdown",
   "metadata": {},
   "source": [
    "## Config"
   ]
  },
  {
   "cell_type": "code",
   "execution_count": 15,
   "metadata": {
    "collapsed": true
   },
   "outputs": [],
   "source": [
    "path = '0820_data/minute_data_0820'\n",
    "start_train,end_train = 15, 17\n",
    "start_test,end_test = 17, 18\n",
    "start_hour,end_hour = '09','08'\n",
    "thre = 100\n",
    "names = ['HRV15-002', 'HRV15-003', 'HRV15-004', 'HRV15-005', 'HRV15-006', 'HRV15-007', 'HRV15-008', 'HRV15-009', 'HRV15-011', 'HRV15-012', 'HRV15-013',  'HRV15-017', 'HRV15-018', 'HRV15-019', 'HRV15-020', 'HRV15-021', 'HRV15-022', 'HRV15-023', 'HRV15-024']\n",
    "label = pickle.load(open(\"labels.pkl\", \"rb\" )).tolist()"
   ]
  },
  {
   "cell_type": "code",
   "execution_count": 16,
   "metadata": {
    "collapsed": true,
    "scrolled": true
   },
   "outputs": [],
   "source": [
    "start_hour,end_hour = '09','08'\n",
    "n = 1\n",
    "rand_state = 1234\n",
    "#dtw = result_1509[-1]\n",
    "result_1509 = result_time_shift(path,start_train,end_train,start_test,end_test,start_hour,end_hour,thre,names,label,n,rand_state)"
   ]
  },
  {
   "cell_type": "code",
   "execution_count": 25,
   "metadata": {},
   "outputs": [
    {
     "name": "stdout",
     "output_type": "stream",
     "text": [
      "accuracy: 0.6666666666666666\n",
      "FP: ['HRV15-006', 'HRV15-007', 'HRV15-008', 'HRV15-013', 'HRV15-021', 'HRV15-022']\n",
      "FN: []\n"
     ]
    }
   ],
   "source": [
    "# Accuracy\n",
    "print ('accuracy:',result_1509[0])\n",
    "print ('FP:',result_1509[2])\n",
    "print ('FN:',result_1509[3])\n",
    "##"
   ]
  },
  {
   "cell_type": "code",
   "execution_count": 20,
   "metadata": {},
   "outputs": [
    {
     "data": {
      "text/plain": [
       "(19, 3)"
      ]
     },
     "execution_count": 20,
     "metadata": {},
     "output_type": "execute_result"
    }
   ],
   "source": [
    "result_1509[4].shape\n"
   ]
  },
  {
   "cell_type": "code",
   "execution_count": 6,
   "metadata": {},
   "outputs": [
    {
     "data": {
      "text/plain": [
       "15"
      ]
     },
     "execution_count": 6,
     "metadata": {},
     "output_type": "execute_result"
    }
   ],
   "source": [
    "start_train"
   ]
  },
  {
   "cell_type": "code",
   "execution_count": 17,
   "metadata": {},
   "outputs": [
    {
     "data": {
      "text/plain": [
       "['HRV15-006', 'HRV15-008', 'HRV15-013', 'HRV15-021', 'HRV15-022', 'HRV15-024']"
      ]
     },
     "execution_count": 17,
     "metadata": {},
     "output_type": "execute_result"
    }
   ],
   "source": [
    "# FP\n",
    "result_1509[2]"
   ]
  },
  {
   "cell_type": "code",
   "execution_count": 18,
   "metadata": {},
   "outputs": [
    {
     "data": {
      "text/plain": [
       "['HRV15-005']"
      ]
     },
     "execution_count": 18,
     "metadata": {},
     "output_type": "execute_result"
    }
   ],
   "source": [
    "# FN\n",
    "result_1509[3]"
   ]
  },
  {
   "cell_type": "code",
   "execution_count": null,
   "metadata": {
    "collapsed": true
   },
   "outputs": [],
   "source": [
    "def svm_(gamma,dtw,label,names):\n",
    "\tindex = 14\n",
    "\tlabel = label[:index] + label[index+1 :]\n",
    "\tnames = names[:index] + names[index+1 :]\n",
    "\tX = dtw\n",
    "\ty = np.asanyarray(label)\n",
    "\tloo = LeaveOneOut()\n",
    "\tloo.get_n_splits(X)\n",
    "\tcount = 0\n",
    "\tcorrect_sub = []\n",
    "\tfp_sub = []\n",
    "\tfn_sub = []\n",
    "\tfor train_index, test_index in loo.split(X):\n",
    "\t\t#print (train_index,test_index)\n",
    "\t\tX_train, X_test = X[train_index], X[test_index]\n",
    "\t\ty_train, y_test = y[train_index], y[test_index]\n",
    "\t\tscaler = StandardScaler() \n",
    "\t\tscaler.fit(X_train) \n",
    "\t\tX_train = scaler.transform(X_train)  \n",
    "\t\tX_test = scaler.transform(X_test) \n",
    "\t\t#clf = svm.SVC(kernel='rbf',gamma = gamma)\n",
    "\t\t#clf = MLPClassifier(solver='lbfgs', alpha=gamma, hidden_layer_sizes=(10, ), random_state=1)\n",
    "\t\t#clf = svm.SVC(kernel='poly', degree=5, C=gamma)\n",
    "\t\t#clf = linear_model.LogisticRegression(C=alpha)\n",
    "\t\tclf.fit(X_train, y_train)  \n",
    "\t\tY_predict = clf.predict(X_test)\n",
    "\t\tif Y_predict == y_test:\n",
    "\t\t\t#correct_sub.append(names[test_index])\n",
    "\t\t\tcount += 1\n",
    "\t\telse:\n",
    "\t\t\tif Y_predict == 1:\n",
    "\t\t\t\t#print (test_index)\n",
    "\t\t\t\tfp_sub.append(names[int(test_index)])\n",
    "\t\t\telif Y_predict == 0:\n",
    "\t\t\t\tfn_sub.append(names[int(test_index)])\n",
    "\t\t#print (Y_predict)\n",
    "\treturn count/(len(X)),fp_sub,fn_sub"
   ]
  },
  {
   "cell_type": "code",
   "execution_count": null,
   "metadata": {
    "collapsed": true
   },
   "outputs": [],
   "source": [
    "def pick_best_fn_fp(distance_new,label,names):\t\n",
    "\tgamma = np.arange(0.00001,1000,10)\n",
    "\trecord = []\n",
    "\tfp_sub_list = []\n",
    "\tfn_sub_list = []\n",
    "\tfor x in gamma:\n",
    "\t    #print (10**(x))\n",
    "\t    rate,fp_sub,fn_sub = svm_(x,distance_new,label,names)\n",
    "\t    record.append(rate)\n",
    "\t    fp_sub_list.append(fp_sub)\n",
    "\t    fn_sub_list.append(fn_sub)\n",
    "\tmax_record = max(record)\n",
    "\tindex_max = record.index(max_record)\n",
    "\talpha_max = gamma[index_max]\n",
    "\tfp_sub_max = fp_sub_list[index_max]\n",
    "\tfn_sub_max = fn_sub_list[index_max]\n",
    "\treturn max_record,alpha_max,fp_sub_max,fn_sub_max"
   ]
  },
  {
   "cell_type": "code",
   "execution_count": 18,
   "metadata": {
    "collapsed": true
   },
   "outputs": [],
   "source": [
    "start_train,end_train = 15, 17\n",
    "start_test,end_test = 17, 18\n",
    "start_hour,end_hour = '10','09'\n",
    "n = 2\n",
    "result_1510 = result_time_shift(path,start_train,end_train,start_test,end_test,start_hour,end_hour,thre,names,label,n,rand_state)"
   ]
  },
  {
   "cell_type": "code",
   "execution_count": 20,
   "metadata": {},
   "outputs": [
    {
     "data": {
      "text/plain": [
       "0.5555555555555556"
      ]
     },
     "execution_count": 20,
     "metadata": {},
     "output_type": "execute_result"
    }
   ],
   "source": [
    "result_1510[0]"
   ]
  },
  {
   "cell_type": "code",
   "execution_count": 19,
   "metadata": {
    "collapsed": true
   },
   "outputs": [],
   "source": [
    "start_hour,end_hour = '11','10'\n",
    "n = 3\n",
    "\n",
    "result_1511 = result_time_shift(path,start_train,end_train,start_test,end_test,start_hour,end_hour,thre,names,label,n,rand_state)"
   ]
  },
  {
   "cell_type": "code",
   "execution_count": 21,
   "metadata": {},
   "outputs": [
    {
     "data": {
      "text/plain": [
       "0.5555555555555556"
      ]
     },
     "execution_count": 21,
     "metadata": {},
     "output_type": "execute_result"
    }
   ],
   "source": [
    "result_1511[0]"
   ]
  },
  {
   "cell_type": "code",
   "execution_count": null,
   "metadata": {
    "collapsed": true
   },
   "outputs": [],
   "source": [
    "distance_new = result_1511[-1]\n",
    "pick_best_fn_fp_(distance_new,label,names)"
   ]
  },
  {
   "cell_type": "code",
   "execution_count": 12,
   "metadata": {
    "collapsed": true
   },
   "outputs": [],
   "source": [
    "start_hour,end_hour = '12','11'\n",
    "n = 4\n",
    "result_1512 = result_time_shift(path,start_train,end_train,start_test,end_test,start_hour,end_hour,thre,names,label,n,rand_state)"
   ]
  },
  {
   "cell_type": "code",
   "execution_count": 13,
   "metadata": {
    "collapsed": true
   },
   "outputs": [],
   "source": [
    "start_hour,end_hour = '13','12'\n",
    "n = 5\n",
    "result_1513 = result_time_shift(path,start_train,end_train,start_test,end_test,start_hour,end_hour,thre,names,label,n,rand_state)"
   ]
  },
  {
   "cell_type": "code",
   "execution_count": null,
   "metadata": {
    "collapsed": true
   },
   "outputs": [],
   "source": [
    "start_hour,end_hour = '14','13'\n",
    "n = 6\n",
    "result_1514 = result_time_shift(path,start_train,end_train,start_test,end_test,start_hour,end_hour,thre,names,label,n,rand_state)"
   ]
  },
  {
   "cell_type": "code",
   "execution_count": null,
   "metadata": {
    "collapsed": true
   },
   "outputs": [],
   "source": [
    "start_hour,end_hour = '15','14'\n",
    "n = 7\n",
    "result_1515 = result_time_shift(path,start_train,end_train,start_test,end_test,start_hour,end_hour,thre,names,label,n,rand_state)"
   ]
  },
  {
   "cell_type": "code",
   "execution_count": null,
   "metadata": {
    "collapsed": true
   },
   "outputs": [],
   "source": [
    "result_1515[0]"
   ]
  },
  {
   "cell_type": "code",
   "execution_count": null,
   "metadata": {
    "collapsed": true
   },
   "outputs": [],
   "source": [
    "start_hour,end_hour = '16','15'\n",
    "n = 8\n",
    "result_1516 = result_time_shift(path,start_train,end_train,start_test,end_test,start_hour,end_hour,thre,names,label,n,rand_state)"
   ]
  },
  {
   "cell_type": "code",
   "execution_count": null,
   "metadata": {
    "collapsed": true
   },
   "outputs": [],
   "source": [
    "result_1516[2]"
   ]
  },
  {
   "cell_type": "code",
   "execution_count": null,
   "metadata": {
    "collapsed": true
   },
   "outputs": [],
   "source": [
    "start_hour,end_hour = '17','16'\n",
    "n = 9\n",
    "result_1517 = result_time_shift(path,start_train,end_train,start_test,end_test,start_hour,end_hour,thre,names,label,n,rand_state)"
   ]
  },
  {
   "cell_type": "code",
   "execution_count": null,
   "metadata": {
    "collapsed": true
   },
   "outputs": [],
   "source": [
    "start_hour,end_hour = '18','17'\n",
    "n = 10\n",
    "result_1518 = result_time_shift(path,start_train,end_train,start_test,end_test,start_hour,end_hour,thre,names,label,n,rand_state)"
   ]
  },
  {
   "cell_type": "code",
   "execution_count": null,
   "metadata": {
    "collapsed": true
   },
   "outputs": [],
   "source": [
    "start_hour,end_hour = '19','18'\n",
    "n = 11\n",
    "result_1519 = result_time_shift(path,start_train,end_train,start_test,end_test,start_hour,end_hour,thre,names,label,n,rand_state)"
   ]
  },
  {
   "cell_type": "code",
   "execution_count": null,
   "metadata": {
    "collapsed": true
   },
   "outputs": [],
   "source": [
    "distance_new = result_1519[-1]\n",
    "pick_best_fn_fp_(distance_new,label,names)"
   ]
  },
  {
   "cell_type": "code",
   "execution_count": null,
   "metadata": {
    "collapsed": true
   },
   "outputs": [],
   "source": [
    "result_1510[2]"
   ]
  },
  {
   "cell_type": "code",
   "execution_count": null,
   "metadata": {
    "collapsed": true
   },
   "outputs": [],
   "source": [
    "start_hour,end_hour = '20','19'\n",
    "n = 12\n",
    "result_1520 = result_time_shift(path,start_train,end_train,start_test,end_test,start_hour,end_hour,thre,names,label,n,rand_state)"
   ]
  },
  {
   "cell_type": "code",
   "execution_count": null,
   "metadata": {
    "collapsed": true
   },
   "outputs": [],
   "source": [
    "start_hour,end_hour = '08','07'\n",
    "n = 13\n",
    "result_1508 = result_time_shift(path,start_train,end_train,start_test,end_test,start_hour,end_hour,thre,names,label,n,rand_state)"
   ]
  },
  {
   "cell_type": "code",
   "execution_count": null,
   "metadata": {
    "collapsed": true
   },
   "outputs": [],
   "source": [
    "result_1520"
   ]
  },
  {
   "cell_type": "code",
   "execution_count": null,
   "metadata": {
    "collapsed": true
   },
   "outputs": [],
   "source": [
    "print ('(fp,true_0,pred_1)',result_1520[2])\n",
    "print('(fn,true_1,pred_0)',result_1520[3])"
   ]
  },
  {
   "cell_type": "code",
   "execution_count": null,
   "metadata": {
    "collapsed": true
   },
   "outputs": [],
   "source": [
    "# start_train,end_train = 14, 16\n",
    "# start_test,end_test = 16, 17\n",
    "\n",
    "# start_hour,end_hour = '19','20'\n",
    "# n = 14\n",
    "# result_1420 = result_time_shift(path,start_train,end_train,start_test,end_test,start_hour,end_hour,thre,names,label,n)"
   ]
  },
  {
   "cell_type": "code",
   "execution_count": null,
   "metadata": {
    "collapsed": true
   },
   "outputs": [],
   "source": []
  },
  {
   "cell_type": "code",
   "execution_count": null,
   "metadata": {
    "collapsed": true
   },
   "outputs": [],
   "source": []
  },
  {
   "cell_type": "code",
   "execution_count": null,
   "metadata": {
    "collapsed": true
   },
   "outputs": [],
   "source": []
  },
  {
   "cell_type": "code",
   "execution_count": null,
   "metadata": {
    "collapsed": true
   },
   "outputs": [],
   "source": [
    "start_hour,end_hour = '06','06'\n",
    "n = 14\n",
    "result_1507 = result_time_shift(path,start_train,end_train,start_test,end_test,start_hour,end_hour,thre,names,label,n)"
   ]
  },
  {
   "cell_type": "code",
   "execution_count": null,
   "metadata": {
    "collapsed": true
   },
   "outputs": [],
   "source": [
    "start_hour_list = ['07','08','09','10','11','12','13','14','15','16','17']\n",
    "end_hour_list = ['06','07','08','09','10','11','12','13','14','15','16']"
   ]
  },
  {
   "cell_type": "code",
   "execution_count": null,
   "metadata": {
    "collapsed": true
   },
   "outputs": [],
   "source": [
    "result_total = []\n",
    "for i in range(len(start_hour_list)):\n",
    "    r =  result_time_shift(path,start_train,end_train,start_test,end_test,start_hour_list[i],end_hour_list[i],thre,names,label,i)\n",
    "    result_total.append(r)\n",
    "    print (i)"
   ]
  },
  {
   "cell_type": "code",
   "execution_count": null,
   "metadata": {
    "collapsed": true
   },
   "outputs": [],
   "source": [
    "\n",
    "alpha = [-2,-1,0,1,2,3,4,5]\n",
    "record = []\n",
    "fp_sub_list = []\n",
    "fn_sub_list = []\n",
    "for x in alpha:\n",
    "    #print (10**(x))\n",
    "    rate,fp_sub,fn_sub = svm_(10**x,distance_new,label,names)\n",
    "    record.append(rate)\n",
    "    fp_sub_list.append(fp_sub)\n",
    "    fn_sub_list.append(fn_sub)\n",
    "max_record = max(record)\n",
    "index_max = record.index(max_record)\n",
    "alpha_max = 10**alpha[index_max]\n",
    "fp_sub_max = fp_sub_list[index_max]\n",
    "fn_sub_max = fn_sub_list[index_max]\n",
    "\n"
   ]
  },
  {
   "cell_type": "code",
   "execution_count": null,
   "metadata": {
    "collapsed": true
   },
   "outputs": [],
   "source": []
  },
  {
   "cell_type": "code",
   "execution_count": null,
   "metadata": {
    "collapsed": true
   },
   "outputs": [],
   "source": [
    "fn_sub_max"
   ]
  },
  {
   "cell_type": "code",
   "execution_count": null,
   "metadata": {
    "collapsed": true
   },
   "outputs": [],
   "source": [
    "max_record"
   ]
  },
  {
   "cell_type": "code",
   "execution_count": null,
   "metadata": {
    "collapsed": true
   },
   "outputs": [],
   "source": [
    "test_index"
   ]
  },
  {
   "cell_type": "code",
   "execution_count": null,
   "metadata": {
    "collapsed": true
   },
   "outputs": [],
   "source": [
    "import matplotlib\n",
    "matplotlib.use('Agg')\n",
    "import matplotlib.pyplot as plt\n",
    "plt.ioff()\n",
    "\n",
    "plt.plot([1,2,3])\n",
    "plt.savefig('/tmp/test.png')"
   ]
  },
  {
   "cell_type": "code",
   "execution_count": null,
   "metadata": {
    "collapsed": true
   },
   "outputs": [],
   "source": []
  }
 ],
 "metadata": {
  "kernelspec": {
   "display_name": "Python 3",
   "language": "python",
   "name": "python3"
  },
  "language_info": {
   "codemirror_mode": {
    "name": "ipython",
    "version": 3
   },
   "file_extension": ".py",
   "mimetype": "text/x-python",
   "name": "python",
   "nbconvert_exporter": "python",
   "pygments_lexer": "ipython3",
   "version": "3.6.1"
  }
 },
 "nbformat": 4,
 "nbformat_minor": 2
}
